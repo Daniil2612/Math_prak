{
  "nbformat": 4,
  "nbformat_minor": 0,
  "metadata": {
    "colab": {
      "provenance": []
    },
    "kernelspec": {
      "name": "python3",
      "display_name": "Python 3"
    },
    "language_info": {
      "name": "python"
    }
  },
  "cells": [
    {
      "cell_type": "markdown",
      "source": [
        "Homework 1: Edabit"
      ],
      "metadata": {
        "id": "NRxomMGjSyCS"
      }
    },
    {
      "cell_type": "code",
      "execution_count": 2,
      "metadata": {
        "id": "EfkkWR4eSplz"
      },
      "outputs": [],
      "source": [
        "class Test:\n",
        "    @staticmethod\n",
        "    def assert_equals(a, b, *args, **kwargs):\n",
        "        assert a == b\n",
        "        print('Passed')"
      ]
    },
    {
      "cell_type": "code",
      "source": [
        "# Problem https://edabit.com/challenge/MGALfBAXhXqqdFyqo  (4 points)\n",
        "def atbash(string: str)->str:\n",
        "    ans = ''\n",
        "    for elem in string:\n",
        "        ascii_code = ord(elem)\n",
        "        if ascii_code >= 65 and ascii_code <= 90:\n",
        "            new_ascii = 90-(ascii_code-65)\n",
        "            sym = chr(new_ascii)\n",
        "            ans += sym\n",
        "        elif ascii_code >= 97 and ascii_code <= 122:\n",
        "            new_ascii = 122-(ascii_code-97)\n",
        "            sym = chr(new_ascii)\n",
        "            ans += sym\n",
        "        else:\n",
        "            ans += elem\n",
        "    return ans"
      ],
      "metadata": {
        "id": "uIE42QN7TRkb"
      },
      "execution_count": 4,
      "outputs": []
    },
    {
      "cell_type": "code",
      "source": [
        "Test.assert_equals(atbash(\"abcdefghijklmnopqrstuvwxyz\"), \"zyxwvutsrqponmlkjihgfedcba\")\n",
        "Test.assert_equals(atbash(\"ABCDEFGHIJKLMNOPQRSTUVWXYZ\"), \"ZYXWVUTSRQPONMLKJIHGFEDCBA\")\n",
        "Test.assert_equals(atbash(\"The word 'atbash' derives from the the first and last 2 letters of the Hebrew alphabet.\"), \"Gsv dliw 'zgyzhs' wvirevh uiln gsv gsv urihg zmw ozhg 2 ovggvih lu gsv Svyivd zokszyvg.\")"
      ],
      "metadata": {
        "colab": {
          "base_uri": "https://localhost:8080/"
        },
        "id": "gye02y1mTeRN",
        "outputId": "f3af2067-7879-4c63-9959-e8b41524d349"
      },
      "execution_count": 5,
      "outputs": [
        {
          "output_type": "stream",
          "name": "stdout",
          "text": [
            "Passed\n",
            "Passed\n",
            "Passed\n"
          ]
        }
      ]
    },
    {
      "cell_type": "code",
      "source": [
        "# Problem https://edabit.com/challenge/QN4RMpAnktNvMCWwg (4 points)\n",
        "def id_mtrx(num):\n",
        "    if isinstance(num, int):\n",
        "        answer = [[0 for i in range(abs(num))] for j in range(abs(num))]\n",
        "        for i in range(abs(num)):\n",
        "            answer[i][i] = 1\n",
        "        if num < 0:\n",
        "            new_answer = answer[::-1]\n",
        "            return new_answer\n",
        "        return answer\n",
        "    return \"Error\""
      ],
      "metadata": {
        "id": "bZqdMnBBTtO8"
      },
      "execution_count": 6,
      "outputs": []
    },
    {
      "cell_type": "code",
      "source": [
        "Test.assert_equals(id_mtrx(1), [[1]])\n",
        "Test.assert_equals(id_mtrx(2), [[1, 0], [0, 1]])\n",
        "Test.assert_equals(id_mtrx(3), [[1, 0, 0], [0, 1, 0], [0, 0, 1]])\n",
        "Test.assert_equals(id_mtrx(4), [[1, 0, 0, 0], [0, 1, 0, 0], [0, 0, 1, 0], [0, 0, 0, 1]])\n",
        "Test.assert_equals(id_mtrx(-6), [[0, 0, 0, 0, 0, 1], [0, 0, 0, 0, 1, 0], [0, 0, 0, 1, 0, 0], [0, 0, 1, 0, 0, 0], [0, 1, 0, 0, 0, 0], [1, 0, 0, 0, 0, 0]])\n",
        "Test.assert_equals(id_mtrx(\"edabit\"), \"Error\", 'Incompatible types passed as n should return the string \"Error\".')"
      ],
      "metadata": {
        "colab": {
          "base_uri": "https://localhost:8080/"
        },
        "id": "CgL1iT0aU8l1",
        "outputId": "6180ed03-f2c7-4db9-cb2a-a66d9f6b98b9"
      },
      "execution_count": 7,
      "outputs": [
        {
          "output_type": "stream",
          "name": "stdout",
          "text": [
            "Passed\n",
            "Passed\n",
            "Passed\n",
            "Passed\n",
            "Passed\n",
            "Passed\n"
          ]
        }
      ]
    },
    {
      "cell_type": "code",
      "source": [
        "#Problem https://edabit.com/challenge/Rbs2G5PaJtmYdLTJM (3 point)\n",
        "import math\n",
        "def is_heteromecic(n):\n",
        "\tb = (int)(math.sqrt(n))\n",
        "\tif n == b*(b+1):\n",
        "\t   return True\n",
        "\treturn False"
      ],
      "metadata": {
        "id": "QHAR7M4EVAu_"
      },
      "execution_count": 9,
      "outputs": []
    },
    {
      "cell_type": "code",
      "source": [
        "num_vector, res_vector = [\n",
        "  [0, 2, 7, 110, 136, 156, 182, 218, 250, 272, 306, 362, 380, 422, 462, 600],\n",
        "  [True, True, False, True, False, True, True, False, False, True, True, False, True, False, True, True]\n",
        "]\n",
        "for i, n in enumerate(num_vector): Test.assert_equals(is_heteromecic(n), res_vector[i])"
      ],
      "metadata": {
        "colab": {
          "base_uri": "https://localhost:8080/"
        },
        "id": "Iw03wRjDVr1q",
        "outputId": "45b9af88-a680-4806-809b-c7a248b02e05"
      },
      "execution_count": 10,
      "outputs": [
        {
          "output_type": "stream",
          "name": "stdout",
          "text": [
            "Passed\n",
            "Passed\n",
            "Passed\n",
            "Passed\n",
            "Passed\n",
            "Passed\n",
            "Passed\n",
            "Passed\n",
            "Passed\n",
            "Passed\n",
            "Passed\n",
            "Passed\n",
            "Passed\n",
            "Passed\n",
            "Passed\n",
            "Passed\n"
          ]
        }
      ]
    },
    {
      "cell_type": "code",
      "source": [
        "# Problem https://edabit.com/challenge/ehyZvt6AJF4rKFfXT(3 points)\n",
        "def uncensor(txt, vowels):\n",
        "\tfor i in vowels:\n",
        "\t\ttxt = txt.replace('*',i, 1)\n",
        "\treturn txt"
      ],
      "metadata": {
        "id": "59EMhuSpWKY5"
      },
      "execution_count": 13,
      "outputs": []
    },
    {
      "cell_type": "code",
      "source": [
        "Test.assert_equals(uncensor('Wh*r* d*d my v*w*ls g*?', 'eeioeo'), 'Where did my vowels go?')\n",
        "Test.assert_equals(uncensor('abcd', ''), 'abcd', 'Works with no vowels.')\n",
        "Test.assert_equals(uncensor('*PP*RC*S*', 'UEAE'), 'UPPERCASE', 'Works with uppercase')\n",
        "Test.assert_equals(uncensor('Ch**s*, Gr*mm*t -- ch**s*', 'eeeoieee'), 'Cheese, Grommit -- cheese', 'Works with * at the end')\n",
        "Test.assert_equals(uncensor('*l*ph*nt', 'Eea'), 'Elephant', 'Works with * at the start')"
      ],
      "metadata": {
        "colab": {
          "base_uri": "https://localhost:8080/"
        },
        "id": "50MPuvV6WL7z",
        "outputId": "07c5b4fa-f8f2-48aa-a2c7-f2c21ccb8759"
      },
      "execution_count": 14,
      "outputs": [
        {
          "output_type": "stream",
          "name": "stdout",
          "text": [
            "Passed\n",
            "Passed\n",
            "Passed\n",
            "Passed\n",
            "Passed\n"
          ]
        }
      ]
    },
    {
      "cell_type": "code",
      "source": [
        "#Problem https://edabit.com/challenge/z39yXccJGLAy3BDNX (3 points)\n",
        "def flipping_bits(n):\n",
        "\tb = 0\n",
        "\tfor i in range(32):\n",
        "\t\tif n & 1 == 0:\n",
        "\t\t\tb = b + pow(2,i)\n",
        "\t\tn = n >> 1\n",
        "\treturn b"
      ],
      "metadata": {
        "id": "L2DJpdaJWQyo"
      },
      "execution_count": 16,
      "outputs": []
    },
    {
      "cell_type": "code",
      "source": [
        "Test.assert_equals(flipping_bits(2147483647), 2147483648)\n",
        "Test.assert_equals(flipping_bits(1), 4294967294)\n",
        "Test.assert_equals(flipping_bits(0), 4294967295)\n",
        "Test.assert_equals(flipping_bits(802743475), 3492223820)\n",
        "Test.assert_equals(flipping_bits(35601423), 4259365872)\n",
        "Test.assert_equals(flipping_bits(123456), 4294843839)\n",
        "Test.assert_equals(flipping_bits(4), 4294967291)"
      ],
      "metadata": {
        "colab": {
          "base_uri": "https://localhost:8080/"
        },
        "id": "iy_jKz_qW0j2",
        "outputId": "a96d06c3-e55b-40fe-cf76-094b1fe8f0e7"
      },
      "execution_count": 17,
      "outputs": [
        {
          "output_type": "stream",
          "name": "stdout",
          "text": [
            "Passed\n",
            "Passed\n",
            "Passed\n",
            "Passed\n",
            "Passed\n",
            "Passed\n",
            "Passed\n"
          ]
        }
      ]
    }
  ]
}